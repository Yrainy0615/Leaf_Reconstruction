{
 "cells": [
  {
   "cell_type": "code",
   "execution_count": 25,
   "metadata": {},
   "outputs": [],
   "source": [
    "import os\n",
    "import glob\n",
    "import random\n",
    "from copy import copy\n",
    "\n",
    "import cv2\n",
    "import numpy as np"
   ]
  },
  {
   "cell_type": "markdown",
   "metadata": {},
   "source": [
    "### Collage"
   ]
  },
  {
   "cell_type": "code",
   "execution_count": 7,
   "metadata": {},
   "outputs": [],
   "source": [
    "data_dir = \"/Users/konishiike/Dataset/LeafAugmentation/\"  # directory of data (leaves(img/mask), backgrounds)\n",
    "save_dir = \"/Users/konishiike/DataSet/LeafAugmentation/maple/\"  # directory for save data \n",
    "\n",
    "\n",
    "def collage (back, leaves, masks):\n",
    "    \n",
    "    num = random.randint(50, 100)\n",
    "    color_list = [[random.randrange(256) for c in range(3)] for i in range(300)]\n",
    "    leaf_ids = [random.randrange(len(leaves)) for i in range(num)]\n",
    "    h, w, _ = back.shape\n",
    "\n",
    "    ann = np.zeros_like(back)\n",
    "    color_id = 1\n",
    "    \n",
    "    # collage leaves (# num) on background\n",
    "    for l in leaf_ids:\n",
    "        \n",
    "        leaf = cv2.imread(leaves[l])\n",
    "        mask = cv2.imread(masks[l])\n",
    "        size_y, size_x, _ = leaf.shape \n",
    "    \n",
    "        # random parameter\n",
    "        rotation = random.randint(0, 359)\n",
    "        scale = random.uniform(0.6, 1.2)\n",
    "        x = random.randrange(-size_x//2, w-size_x//2)\n",
    "        y = random.randrange(-size_y//2, h-size_y//2)\n",
    "    \n",
    "        # transofrmation\n",
    "        rot = cv2.getRotationMatrix2D((size//2, size//2), rotation, scale)\n",
    "        pos = np.float32([[1, 0, x],\n",
    "                          [0, 1, y]])\n",
    "        leaf = cv2.warpAffine(leaf, rot, (w, h), flags=cv2.INTER_NEAREST)\n",
    "        leaf = cv2.warpAffine(leaf, pos, (w, h), flags=cv2.INTER_NEAREST)\n",
    "        mask = cv2.warpAffine(mask, rot, (w, h), flags=cv2.INTER_NEAREST)\n",
    "        mask = cv2.warpAffine(mask, pos, (w, h), flags=cv2.INTER_NEAREST)\n",
    "        \n",
    "        # collage\n",
    "        np.putmask(back, mask, leaf)\n",
    "        np.putmask(ann, mask, color_list[color_id])\n",
    "        color_id += 1\n",
    "        \n",
    "    return back, ann\n",
    "\n",
    "\n",
    "# backgrpund images\n",
    "back_list = glob.glob(os.path.join(data_dir, \"backgrounds/*.png\"))\n",
    "back_ids = [random.randrange(len(back_list)) for i in range(number)]\n",
    "\n",
    "img_num = 1\n",
    "for b in back_ids:\n",
    "    \n",
    "    leaf_list = glob.glob(os.path.join(data_dir, \"leaves\", \"img/*.png\"))\n",
    "    leaf_list.sort()\n",
    "    mask_list = glob.glob(os.path.join(data_dir, \"leaves\", \"mask/*.png\"))\n",
    "    mask_list.sort()\n",
    "    \n",
    "    back = cv2.imread(backgrounds_list[b])\n",
    "    img, ann= collage(back, list1, mask_list1)\n",
    "    \n",
    "    os.makedirs(os.path.join(save_dir, \"img\"), exist_ok=True)\n",
    "    os.makedirs(os.path.join(save_dir, \"annotation\"), exist_ok=True)\n",
    "    cv2.imwrite(os.path.join(save_dir, \"img\", \"{:04}.png\".format(img_num)), img)\n",
    "    cv2.imwrite(os.path.join(save_dir, \"annotation\", \"{:04}.png\".format(img_num)), ann)\n",
    "    img_num += 1"
   ]
  }
 ],
 "metadata": {
  "kernelspec": {
   "display_name": "Python 3",
   "language": "python",
   "name": "python3"
  },
  "language_info": {
   "codemirror_mode": {
    "name": "ipython",
    "version": 3
   },
   "file_extension": ".py",
   "mimetype": "text/x-python",
   "name": "python",
   "nbconvert_exporter": "python",
   "pygments_lexer": "ipython3",
   "version": "3.7.7"
  }
 },
 "nbformat": 4,
 "nbformat_minor": 4
}
